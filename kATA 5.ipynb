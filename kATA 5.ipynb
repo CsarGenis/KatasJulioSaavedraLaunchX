{
 "cells": [
  {
   "cell_type": "markdown",
   "metadata": {},
   "source": [
    "# Operaciones Matemáticas"
   ]
  },
  {
   "cell_type": "markdown",
   "metadata": {},
   "source": [
    "### Ejercicio1 - Utilizar operadores aritméticos"
   ]
  },
  {
   "cell_type": "code",
   "execution_count": 1,
   "metadata": {},
   "outputs": [
    {
     "name": "stdout",
     "output_type": "stream",
     "text": [
      "Distancia en km: 628949330\n",
      "Distancia en millas: 390577534\n"
     ]
    }
   ],
   "source": [
    "tierra = 149597870 #km\n",
    "jupiter = 778547200 #km\n",
    "\n",
    "resultado = abs(tierra-jupiter)\n",
    "\n",
    "print(\"Distancia en km: \"+str(resultado))\n",
    "print(\"Distancia en millas: \"+str(round(resultado * 0.621)))"
   ]
  },
  {
   "cell_type": "markdown",
   "metadata": {},
   "source": [
    "## Ejercicio 2: convierte cadenas en números y usa valores absolutos\n"
   ]
  },
  {
   "cell_type": "code",
   "execution_count": 11,
   "metadata": {},
   "outputs": [
    {
     "name": "stdout",
     "output_type": "stream",
     "text": [
      "Distancias en km: 1325300000\n",
      "Distancias en millas: 823011300\n"
     ]
    }
   ],
   "source": [
    "planeta1 = input(\"Ingresa la distancia en KM entre el sol y el SEGUNDO planeta del sistema solar\")\n",
    "planeta2 = input(\"Ingresa la distancia en KM entre el sol y el SEXTO planeta del sistema solar\")\n",
    "\n",
    "planeta1 = int(planeta1)\n",
    "planeta2 = int(planeta2)\n",
    "\n",
    "resultado = round(abs(planeta1-planeta2))\n",
    "\n",
    "print(\"Distancias en km: \"+str(resultado))\n",
    "print(\"Distancias en millas: \"+str(round(resultado*0.621)))\n",
    "\n",
    "# Convertir de KM a Millas"
   ]
  },
  {
   "cell_type": "markdown",
   "metadata": {},
   "source": [
    "*Ejercicio elaborado por **Cesar Genis** para LaunchX. ·  2022*\n",
    "* GitHub: [CsarGenis](https://github.com/CsarGenis)\n",
    "* Instagram: [cess.og](https://www.instagram.com/cess.og/)\n"
   ]
  }
 ],
 "metadata": {
  "interpreter": {
   "hash": "aee8b7b246df8f9039afb4144a1f6fd8d2ca17a180786b69acc140d282b71a49"
  },
  "kernelspec": {
   "display_name": "Python 3.10.2 64-bit",
   "language": "python",
   "name": "python3"
  },
  "language_info": {
   "codemirror_mode": {
    "name": "ipython",
    "version": 3
   },
   "file_extension": ".py",
   "mimetype": "text/x-python",
   "name": "python",
   "nbconvert_exporter": "python",
   "pygments_lexer": "ipython3",
   "version": "3.10.2"
  },
  "orig_nbformat": 4
 },
 "nbformat": 4,
 "nbformat_minor": 2
}
