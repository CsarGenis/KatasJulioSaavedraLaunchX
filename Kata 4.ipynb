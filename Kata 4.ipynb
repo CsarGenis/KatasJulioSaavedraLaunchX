{
 "cells": [
  {
   "cell_type": "markdown",
   "metadata": {},
   "source": [
    "# Cadenas en Python"
   ]
  },
  {
   "cell_type": "markdown",
   "metadata": {},
   "source": [
    "### Ejercicio 1 // Transformar cadenas"
   ]
  },
  {
   "cell_type": "code",
   "execution_count": 110,
   "metadata": {},
   "outputs": [
    {
     "name": "stdout",
     "output_type": "stream",
     "text": [
      "Interesting facts about the Moon\n",
      "Interesting facts about the Moon\n",
      "Interesting facts about the Moon\n",
      " The Moon is Earth's only satellite\n",
      " The Moon is Earth's only satellite\n",
      " The Moon is Earth's only satellite\n",
      " There are several interesting facts about the Moon and how it affects life here on Earth\n",
      " There are several interesting facts about the Moon and how it affects life here on Earth\n",
      " There are several interesting facts about the Moon and how it affects life here on Earth\n",
      " On average, the Moon moves 4cm away from the Earth every year\n",
      " On average, the Moon moves 4cm away from the Earth every year\n",
      " On average, the Moon moves 4cm away from the Earth every year\n",
      " This yearly drift is not significant enough to cause immediate effects on Earth\n",
      " This yearly drift is not significant enough to cause immediate effects on Earth\n",
      " This yearly drift is not significant enough to cause immediate effects on Earth\n",
      " The highest daylight temperature of the Moon is 127 Celsius\n",
      " The highest daylight temperature of the Moon is 127 Celsius\n",
      " The highest daylight temperature of the Moon is 127 Celsius\n",
      "\n",
      "\n",
      "\n"
     ]
    }
   ],
   "source": [
    "text = \"\"\"Interesting facts about the Moon. The Moon is Earth's only satellite. There are several interesting facts about the Moon and how it affects life here on Earth. \n",
    "On average, the Moon moves 4cm away from the Earth every year. This yearly drift is not significant enough to cause immediate effects on Earth. The highest daylight temperature of the Moon is 127 C.\"\"\".replace('\\n','')\n",
    "\n",
    "oraciones = text .split(\".\")\n",
    "\n",
    "filtros = [\"average\", \"temperature\", \"distance\"]\n",
    "\n",
    "for oracion  in oraciones:\n",
    "    for filtro in filtros:\n",
    "        if 'C' in oracion:\n",
    "            print(oracion.replace('C','Celsius'))\n",
    "        else:\n",
    "            print(oracion)"
   ]
  },
  {
   "cell_type": "markdown",
   "metadata": {},
   "source": [
    "### Ejercicio 2 // Formateando Cadenas"
   ]
  },
  {
   "cell_type": "code",
   "execution_count": 111,
   "metadata": {},
   "outputs": [
    {
     "name": "stdout",
     "output_type": "stream",
     "text": [
      "Datos De Gravedad Sobre: Ganímedes--------------------------------------------------------------------------------\n",
      "Nombre del planeta: Marte\n",
      "Gravedad: 1.4300000000000002 m/s2\n"
     ]
    }
   ],
   "source": [
    "planeta = \"Marte\"\n",
    "gravedad = 0.00143 # in kms\n",
    "nombre = \"Ganímedes\"\n",
    "\n",
    "titulo = \"Datos de gravedad sobre: {}\".format(nombre)\n",
    "\n",
    "Caracteristicas = f\"\"\"{'-'*80}\n",
    "Nombre del planeta: {planeta}\n",
    "Gravedad: {gravedad*1000} m/s2\"\"\"\n",
    "\n",
    "plantilla_all = f\"\"\"{titulo.title()}{Caracteristicas}\"\"\"\n",
    "\n",
    "print(plantilla_all)"
   ]
  },
  {
   "cell_type": "markdown",
   "metadata": {},
   "source": [
    "*Ejercicio elaborado por **Cesar Genis** para LaunchX. ·  2022*\n",
    "* GitHub: [CsarGenis](https://github.com/CsarGenis)\n",
    "* Instagram: [cess.og](https://www.instagram.com/cess.og/)\n"
   ]
  }
 ],
 "metadata": {
  "interpreter": {
   "hash": "aee8b7b246df8f9039afb4144a1f6fd8d2ca17a180786b69acc140d282b71a49"
  },
  "kernelspec": {
   "display_name": "Python 3.10.2 64-bit",
   "language": "python",
   "name": "python3"
  },
  "language_info": {
   "codemirror_mode": {
    "name": "ipython",
    "version": 3
   },
   "file_extension": ".py",
   "mimetype": "text/x-python",
   "name": "python",
   "nbconvert_exporter": "python",
   "pygments_lexer": "ipython3",
   "version": "3.10.2"
  },
  "orig_nbformat": 4
 },
 "nbformat": 4,
 "nbformat_minor": 2
}
