{
 "cells": [
  {
   "cell_type": "markdown",
   "metadata": {},
   "source": [
    "# Estructuras de Control"
   ]
  },
  {
   "cell_type": "markdown",
   "metadata": {},
   "source": [
    "### Ejercicio 1: Creación de un bucle \"while\""
   ]
  },
  {
   "cell_type": "code",
   "execution_count": 5,
   "metadata": {},
   "outputs": [
    {
     "name": "stdout",
     "output_type": "stream",
     "text": [
      "Planetas introducidos: mercurio\n",
      "Planetas introducidos: venus\n",
      "Planetas introducidos: tierra\n",
      "Planetas introducidos: marte\n",
      "Planetas introducidos: jupiter\n",
      "Planetas introducidos: hecho\n",
      "Planetas introducidos: hecho\n"
     ]
    }
   ],
   "source": [
    "new_planet = \"\"\n",
    "planetas = []\n",
    "\n",
    "while new_planet.lower() != \"done\":\n",
    "    if new_planet:\n",
    "        planetas.append(new_planet)\n",
    "    new_planet = input(\"Introduzca el nombre de los planetas que recuerde, escriba 'done' cuando haya terminado\")\n",
    "\n",
    "for planets in planetas:\n",
    "    print(\"Planetas introducidos:\",planets)"
   ]
  },
  {
   "cell_type": "markdown",
   "metadata": {},
   "source": [
    "*Ejercicio elaborado por **Cesar Genis** para LaunchX. ·  2022*\n",
    "* GitHub: [CsarGenis](https://github.com/CsarGenis)\n",
    "* Instagram: [cess.og](https://www.instagram.com/cess.og/)\n"
   ]
  }
 ],
 "metadata": {
  "interpreter": {
   "hash": "aee8b7b246df8f9039afb4144a1f6fd8d2ca17a180786b69acc140d282b71a49"
  },
  "kernelspec": {
   "display_name": "Python 3.10.2 64-bit",
   "language": "python",
   "name": "python3"
  },
  "language_info": {
   "codemirror_mode": {
    "name": "ipython",
    "version": 3
   },
   "file_extension": ".py",
   "mimetype": "text/x-python",
   "name": "python",
   "nbconvert_exporter": "python",
   "pygments_lexer": "ipython3",
   "version": "3.10.2"
  },
  "orig_nbformat": 4
 },
 "nbformat": 4,
 "nbformat_minor": 2
}
