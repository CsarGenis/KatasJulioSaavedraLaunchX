{
 "cells": [
  {
   "cell_type": "markdown",
   "metadata": {},
   "source": [
    "# Administrar datos con diccionarios"
   ]
  },
  {
   "cell_type": "markdown",
   "metadata": {},
   "source": [
    "### Ejercicio 1: Creación de diccionarios de Python"
   ]
  },
  {
   "cell_type": "code",
   "execution_count": 2,
   "metadata": {},
   "outputs": [
    {
     "name": "stdout",
     "output_type": "stream",
     "text": [
      "Nombre Planeta: Marte\n",
      "Lunas: 2\n",
      "Circunferencia polar:6572\n"
     ]
    }
   ],
   "source": [
    "planeta_marte = {\n",
    "    'name':'Marte',\n",
    "    'moons':2\n",
    "}\n",
    "\n",
    "print(f\"Nombre Planeta: {planeta_marte.get('name')}\\nLunas: {planeta_marte.get('moons')}\")\n",
    "\n",
    "planeta_marte.update({\n",
    "    'circunferencia (km)':{\n",
    "        'polar':6572,\n",
    "        'equiatorial':6792\n",
    "    }   \n",
    "})\n",
    "\n",
    "print(f\"Circunferencia polar:{planeta_marte.get('circunferencia (km)',{}).get('polar')}\")"
   ]
  },
  {
   "cell_type": "markdown",
   "metadata": {},
   "source": [
    "*Ejercicio elaborado por **Cesar Genis** para LaunchX. ·  2022*\n",
    "* GitHub: [CsarGenis](https://github.com/CsarGenis)\n",
    "* Instagram: [cess.og](https://www.instagram.com/cess.og/)\n"
   ]
  }
 ],
 "metadata": {
  "interpreter": {
   "hash": "aee8b7b246df8f9039afb4144a1f6fd8d2ca17a180786b69acc140d282b71a49"
  },
  "kernelspec": {
   "display_name": "Python 3.10.2 64-bit",
   "language": "python",
   "name": "python3"
  },
  "language_info": {
   "codemirror_mode": {
    "name": "ipython",
    "version": 3
   },
   "file_extension": ".py",
   "mimetype": "text/x-python",
   "name": "python",
   "nbconvert_exporter": "python",
   "pygments_lexer": "ipython3",
   "version": "3.10.2"
  },
  "orig_nbformat": 4
 },
 "nbformat": 4,
 "nbformat_minor": 2
}
