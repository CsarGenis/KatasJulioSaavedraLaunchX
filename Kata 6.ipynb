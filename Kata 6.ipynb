{
 "cells": [
  {
   "cell_type": "markdown",
   "metadata": {},
   "source": [
    "# Listas en Python"
   ]
  },
  {
   "cell_type": "markdown",
   "metadata": {},
   "source": [
    "### Ejercicio 1: Crear y usar listas de Python\n"
   ]
  },
  {
   "cell_type": "code",
   "execution_count": 1,
   "metadata": {},
   "outputs": [
    {
     "name": "stdout",
     "output_type": "stream",
     "text": [
      "Numero de planetas: 8\n",
      "Numero de planetas: 9 y es: Plúton\n"
     ]
    }
   ],
   "source": [
    "planets = ['Mercurio', 'Venus', 'Tierra', 'Marte', 'Jupiter', 'Saturno', 'Urano', 'Neptuno']\n",
    "\n",
    "print(\"Numero de planetas:\",len(planets))\n",
    "\n",
    "planets.append('Plúton')\n",
    "\n",
    "print(\"Numero de planetas:\",len(planets),\"y es:\",planets[-1])"
   ]
  },
  {
   "cell_type": "markdown",
   "metadata": {},
   "source": [
    "### Ejercicio 2: Trabajando con datos de una lista\n"
   ]
  },
  {
   "cell_type": "code",
   "execution_count": 8,
   "metadata": {},
   "outputs": [
    {
     "name": "stdout",
     "output_type": "stream",
     "text": [
      "Informacion Planeta Venus\n",
      "--------------------------------------------------------------------------------\n",
      "Los planetas mas cercanos al sol que Venus son ['Mercurio']\n",
      "Aquí están los planetas más lejos que Venus son ['Tierra', 'Marte', 'Jupiter', 'Saturno', 'Urano', 'Neptuno']\n",
      "La distancia del sol a la Venus es de 108200000 km\n"
     ]
    }
   ],
   "source": [
    "planets = ['Mercurio', 'Venus', 'Tierra', 'Marte', 'Jupiter', 'Saturno', 'Urano', 'Neptuno']\n",
    "sun_distance = [57900000,108200000,149600000,227900000,778600000,1433500000,2872500000,4495100000]\n",
    "\n",
    "entrada = input(\"Intruce el Nombre de un planeta del sistema solar\")\n",
    "\n",
    "entrada = entrada.capitalize()\n",
    "\n",
    "planeta_num = planets.index(entrada)\n",
    "\n",
    "print(\"Informacion Planeta \"+entrada)\n",
    "print(f\"{'-'*80}\")\n",
    "if planeta_num == 0:\n",
    "    print(\"No hay planeta mas cercano al sol que\",entrada)\n",
    "else:\n",
    "    print(\"Los planetas mas cercanos al sol que\",planets[planeta_num],\"son\",planets[0:planeta_num])\n",
    "if planeta_num == len(planets)-1:\n",
    "    print(\"No hay planeta mas lejano que\",entrada)\n",
    "else: \n",
    "    print(\"Aquí están los planetas más lejos que\",planets[planeta_num],\"son\",planets[planeta_num+1:])\n",
    "print(\"La distancia del sol a la\",entrada,\"es de\",sun_distance[planeta_num],\"km\")"
   ]
  },
  {
   "cell_type": "markdown",
   "metadata": {},
   "source": [
    "*Ejercicio elaborado por **Cesar Genis** para LaunchX. ·  2022*\n",
    "* GitHub: [CsarGenis](https://github.com/CsarGenis)\n",
    "* Instagram: [cess.og](https://www.instagram.com/cess.og/)\n"
   ]
  }
 ],
 "metadata": {
  "interpreter": {
   "hash": "aee8b7b246df8f9039afb4144a1f6fd8d2ca17a180786b69acc140d282b71a49"
  },
  "kernelspec": {
   "display_name": "Python 3.10.2 64-bit",
   "language": "python",
   "name": "python3"
  },
  "language_info": {
   "codemirror_mode": {
    "name": "ipython",
    "version": 3
   },
   "file_extension": ".py",
   "mimetype": "text/x-python",
   "name": "python",
   "nbconvert_exporter": "python",
   "pygments_lexer": "ipython3",
   "version": "3.10.2"
  },
  "orig_nbformat": 4
 },
 "nbformat": 4,
 "nbformat_minor": 2
}
