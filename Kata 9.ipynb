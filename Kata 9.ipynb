{
 "cells": [
  {
   "cell_type": "markdown",
   "metadata": {},
   "source": [
    "# Funciones en Python"
   ]
  },
  {
   "cell_type": "markdown",
   "metadata": {},
   "source": [
    "### Ejercicio 1: Trabajar con argumentos en funciones"
   ]
  },
  {
   "cell_type": "code",
   "execution_count": 4,
   "metadata": {},
   "outputs": [
    {
     "name": "stdout",
     "output_type": "stream",
     "text": [
      "Reporte V1:\n",
      " Reporte:\n",
      "    Promedio: 64.66666666666667\n",
      "    Tanque 1: 40\n",
      "    Tanque 2: 58\n",
      "    Tanque 3: 96\n",
      "--------------------------------------------------------------------------------\n",
      "Reporte V2:\n",
      " Reporte:\n",
      "    Promedio: 65.66666666666667\n",
      "    Tanque de combustible 1: 45\n",
      "    Tanque de combustible 2: 45\n",
      "    Tanque de combustible 3: 79\n"
     ]
    }
   ],
   "source": [
    "def generarReporte(tanque1,tanque2,tanque3):\n",
    "    promedio = (tanque1+tanque2+tanque3) / 3 \n",
    "    reporte = f\"\"\"Reporte:\n",
    "    Promedio: {promedio}\n",
    "    Tanque 1: {tanque1}\n",
    "    Tanque 2: {tanque2}\n",
    "    Tanque 3: {tanque3}\"\"\"\n",
    "    return reporte\n",
    "    \n",
    "print(\"Reporte V1:\\n\",generarReporte(40,58,96))\n",
    "\n",
    "def promedio(lista):\n",
    "    suma = sum(lista)\n",
    "    itemcount = len(lista)\n",
    "    return suma / itemcount\n",
    "\n",
    "def generarReporteV2(tanque1,tanque2,tanque3):\n",
    "    prom = promedio([tanque1,tanque2,tanque3])\n",
    "    reporte = f\"\"\"Reporte:\n",
    "    Promedio: {prom}\n",
    "    Tanque de combustible 1: {tanque2}\n",
    "    Tanque de combustible 2: {tanque2}\n",
    "    Tanque de combustible 3: {tanque3}\"\"\"\n",
    "    return reporte\n",
    "\n",
    "print(f\"{'-'*80}\")\n",
    "print(\"Reporte V2:\\n\",generarReporteV2(73,45,79))"
   ]
  },
  {
   "cell_type": "markdown",
   "metadata": {},
   "source": [
    "### Ejercicio 2: Trabajo con argumentos de palabra clave"
   ]
  },
  {
   "cell_type": "code",
   "execution_count": 5,
   "metadata": {},
   "outputs": [
    {
     "name": "stdout",
     "output_type": "stream",
     "text": [
      "\n",
      "    Informe de viaje V2\n",
      "    --------------------------------------------------------------------------------\n",
      "    Destino:Luna\n",
      "    Tiempo de vuelo: 76 minutos\n",
      "    Reserva de tanques: 500000\n",
      "    --------------------------------------------------------------------------------\n",
      "principal tiene 300000 litros\n",
      "externo tiene 200000 litros\n",
      "\n"
     ]
    }
   ],
   "source": [
    "def informe(pre_launch,flytime,destination,external_tank,internal_tank):\n",
    "    informe = f\"\"\"Informe de viaje\n",
    "    {'-'*80}\n",
    "    Destino:{destination}\n",
    "    Tiempo de vuelo:{pre_launch + flytime} minutos\n",
    "    Total tanque:{external_tank + internal_tank} litros\"\"\"\n",
    "    return informe\n",
    "\n",
    "def informe_nuevo(destino,*minutos,**tanques_r):\n",
    "    reporte = f\"\"\"Informe de viaje V2\n",
    "    {'-'*80}\n",
    "    Destino:{destino}\n",
    "    Tiempo de vuelo: {sum(minutos)} minutos\n",
    "    Reserva de tanques: {sum(tanques_r.values())}\"\"\"\n",
    "    return reporte\n",
    "\n",
    "\n",
    "def informe_nuevo2(destino,*minutos,**tanques_r):\n",
    "    reporte = f\"\"\"\n",
    "    Informe de viaje V2\n",
    "    {'-'*80}\n",
    "    Destino:{destino}\n",
    "    Tiempo de vuelo: {sum(minutos)} minutos\n",
    "    Reserva de tanques: {sum(tanques_r.values())}\n",
    "    {'-'*80}\\n\"\"\"\n",
    "\n",
    "    for tanque,litros in tanques_r.items():\n",
    "        reporte = reporte + f\"{tanque} tiene {litros} litros\\n\"\n",
    "\n",
    "    return reporte\n",
    "\n",
    "print(informe_nuevo2(\"Luna\", 10, 15, 51, principal=300000, externo=200000))"
   ]
  },
  {
   "cell_type": "markdown",
   "metadata": {},
   "source": [
    "*Ejercicio elaborado por **Cesar Genis** para LaunchX. ·  2022*\n",
    "* GitHub: [CsarGenis](https://github.com/CsarGenis)\n",
    "* Instagram: [cess.og](https://www.instagram.com/cess.og/)\n"
   ]
  }
 ],
 "metadata": {
  "interpreter": {
   "hash": "aee8b7b246df8f9039afb4144a1f6fd8d2ca17a180786b69acc140d282b71a49"
  },
  "kernelspec": {
   "display_name": "Python 3.10.2 64-bit",
   "language": "python",
   "name": "python3"
  },
  "language_info": {
   "codemirror_mode": {
    "name": "ipython",
    "version": 3
   },
   "file_extension": ".py",
   "mimetype": "text/x-python",
   "name": "python",
   "nbconvert_exporter": "python",
   "pygments_lexer": "ipython3",
   "version": "3.10.2"
  },
  "orig_nbformat": 4
 },
 "nbformat": 4,
 "nbformat_minor": 2
}
